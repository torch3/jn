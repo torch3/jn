{
 "cells": [
  {
   "cell_type": "code",
   "execution_count": 3,
   "id": "7a409275",
   "metadata": {},
   "outputs": [],
   "source": [
    "def QuickSort(A, l, r):\n",
    "    if l >= r:\n",
    "        return\n",
    "    else:\n",
    "        q = A[r]\n",
    "        i = l\n",
    "        j = r - 1\n",
    "        while i <= j:\n",
    "            while A[i] < q:\n",
    "                i += 1\n",
    "            while A[j] > q:\n",
    "                j -= 1\n",
    "            if i <= j: \n",
    "                A[i], A[j] = A[j], A[i]\n",
    "                i += 1\n",
    "                j -= 1\n",
    "        A[i], A[r] = A[r], A[i]\n",
    "        QuickSort(A, l, j)\n",
    "        QuickSort(A, i + 1, r)"
   ]
  },
  {
   "cell_type": "code",
   "execution_count": 4,
   "id": "87fe1275",
   "metadata": {},
   "outputs": [
    {
     "name": "stdout",
     "output_type": "stream",
     "text": [
      "[5, 3, 6, 9, 2, 10, 2, 9, 7, 5]\n",
      "[2, 2, 3, 5, 5, 6, 7, 9, 9, 10]\n"
     ]
    }
   ],
   "source": [
    "from random import randint, choice\n",
    "\n",
    "n = 10\n",
    "a = [int(randint(1, 10)) for i in range(n)]\n",
    "print(a)\n",
    "QuickSort(a, 0, n - 1)\n",
    "print(a)\n"
   ]
  },
  {
   "cell_type": "code",
   "execution_count": 9,
   "id": "a150733c",
   "metadata": {},
   "outputs": [
    {
     "name": "stdout",
     "output_type": "stream",
     "text": [
      "[25, 22, 1, 25, 27, 29, 41, 40, 37, 44]\n",
      "3\n",
      "2\n"
     ]
    }
   ],
   "source": [
    "\n",
    "A = [37, 29, 1, 44, 27, 22, 41, 40, 25, 25]\n",
    "l = 0\n",
    "r = 9\n",
    "# if l >= r:\n",
    "#     return\n",
    "# else:\n",
    "q = A[9]\n",
    "i = l\n",
    "j = r - 1\n",
    "while i <= j:\n",
    "    while A[i] < q:\n",
    "        i += 1\n",
    "    while A[j] > q:\n",
    "        j -= 1\n",
    "    if i <= j: \n",
    "        A[i], A[j] = A[j], A[i]\n",
    "        i += 1\n",
    "        j -= 1\n",
    "A[i], A[9] = A[9], A[i]\n",
    "print(A)\n",
    "print(i)\n",
    "print(j)"
   ]
  },
  {
   "cell_type": "code",
   "execution_count": 20,
   "id": "599affa5",
   "metadata": {},
   "outputs": [],
   "source": [
    "n = 10\n",
    "a = [25, 22, 1, 25, 27, 29, 41, 40, 37, 44]\n",
    "c = 0"
   ]
  },
  {
   "cell_type": "code",
   "execution_count": 21,
   "id": "3a862f6f",
   "metadata": {},
   "outputs": [
    {
     "name": "stdout",
     "output_type": "stream",
     "text": [
      "[1, 22, 25, 25, 27, 29, 37, 40, 41, 44]\n"
     ]
    }
   ],
   "source": [
    "for i in range(n - 1):\n",
    "    for j in range(i + 1, n):\n",
    "        if a[j] < a[i]:\n",
    "            c = a[i]\n",
    "            a[i] = a[j]\n",
    "            a[j] = c\n",
    "\n",
    "print(a)"
   ]
  },
  {
   "cell_type": "code",
   "execution_count": 1,
   "id": "c01d7a70",
   "metadata": {},
   "outputs": [
    {
     "ename": "NameError",
     "evalue": "name 'oldX' is not defined",
     "output_type": "error",
     "traceback": [
      "\u001b[1;31m---------------------------------------------------------------------------\u001b[0m",
      "\u001b[1;31mNameError\u001b[0m                                 Traceback (most recent call last)",
      "\u001b[1;32m~\\AppData\\Local\\Temp\\ipykernel_8932\\3762587421.py\u001b[0m in \u001b[0;36m<module>\u001b[1;34m\u001b[0m\n\u001b[1;32m----> 1\u001b[1;33m \u001b[0mhelp\u001b[0m\u001b[1;33m(\u001b[0m\u001b[0moldX\u001b[0m\u001b[1;33m)\u001b[0m\u001b[1;33m\u001b[0m\u001b[1;33m\u001b[0m\u001b[0m\n\u001b[0m",
      "\u001b[1;31mNameError\u001b[0m: name 'oldX' is not defined"
     ]
    }
   ],
   "source": [
    "help(oldX)"
   ]
  }
 ],
 "metadata": {
  "kernelspec": {
   "display_name": "Python 3 (ipykernel)",
   "language": "python",
   "name": "python3"
  },
  "language_info": {
   "codemirror_mode": {
    "name": "ipython",
    "version": 3
   },
   "file_extension": ".py",
   "mimetype": "text/x-python",
   "name": "python",
   "nbconvert_exporter": "python",
   "pygments_lexer": "ipython3",
   "version": "3.9.13"
  },
  "widgets": {
   "application/vnd.jupyter.widget-state+json": {
    "state": {},
    "version_major": 2,
    "version_minor": 0
   }
  }
 },
 "nbformat": 4,
 "nbformat_minor": 5
}
