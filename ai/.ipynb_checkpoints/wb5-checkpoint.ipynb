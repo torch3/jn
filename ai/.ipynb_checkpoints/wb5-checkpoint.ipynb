{
 "cells": [
  {
   "cell_type": "markdown",
   "id": "b267e233",
   "metadata": {},
   "source": [
    "### 1.2.1 Пример"
   ]
  },
  {
   "cell_type": "markdown",
   "id": "b0de0479",
   "metadata": {},
   "source": [
    "Необходимо разработать виртуальную модель процесса обучения. В   \n",
    "программе должны быть объекты-ученики, учитель, кладезь знаний.  \n",
    "\n",
    "Потребуется три класса – \"учитель\", \"ученик\", \"данные\". Учитель и  \n",
    "ученик во многом похожи, оба – люди. Значит, их классы могут  \n",
    "принадлежать одному надклассу \"человек\". Однако в контексте данной  \n",
    "задачи у учителя и ученика вряд ли найдутся общие атрибуты. Определим,  \n",
    "что должны уметь объекты для решения задачи \"увеличить знания\":\n",
    "\n",
    "* Ученик должен уметь брать информацию и превращать ее в свои  \n",
    "знания.  \n",
    "* Учитель должен уметь учить группу учеников.  \n",
    "* Данные могут представлять собой список знаний. Элементы будут  \n",
    "извлекаться по индексу."
   ]
  },
  {
   "cell_type": "code",
   "execution_count": 9,
   "id": "541d4f79",
   "metadata": {},
   "outputs": [
    {
     "name": "stdout",
     "output_type": "stream",
     "text": [
      "['inheritance']\n",
      "['inheritance', 'class']\n"
     ]
    }
   ],
   "source": [
    "class Data:\n",
    "    def __init__(self, *info):\n",
    "        self.info = list(info)\n",
    "    def __getitem__(self, i):\n",
    "        return self.info[i]\n",
    "\n",
    "class Teacher:\n",
    "    def teach(self, info, *pupil):\n",
    "        for i in pupil:\n",
    "            i.take(info)\n",
    "\n",
    "class Pupil:\n",
    "    def __init__(self):\n",
    "        self.knowledge = []\n",
    "    def take(self, info):\n",
    "        self.knowledge.append(info)\n",
    "\n",
    "lesson = Data('class', 'object', 'inheritance', 'polymorphism', 'encapsulation')\n",
    "marIvanna = Teacher()\n",
    "vasy = Pupil()\n",
    "pety = Pupil()\n",
    "marIvanna.teach(lesson[2], vasy, pety)\n",
    "marIvanna.teach(lesson[0], pety)\n",
    "print(vasy.knowledge)\n",
    "print(pety.knowledge)"
   ]
  },
  {
   "cell_type": "markdown",
   "id": "e886011d",
   "metadata": {},
   "source": [
    "### 1.2.2 Пример "
   ]
  },
  {
   "cell_type": "markdown",
   "id": "5c754583",
   "metadata": {},
   "source": [
    "Напишите программу по следующему описанию. Есть класс \"Воин\". От  \n",
    "него создаются два экземпляра-юнита. Каждому устанавливается здоровье  \n",
    "в 100 очков. В случайном порядке они бьют друг друга. Тот, кто бьет,  \n",
    "здоровья не теряет. У того, кого бьют, оно уменьшается на 20 очков от  \n",
    "одного удара. После каждого удара надо выводить сообщение, какой юнит  \n",
    "атаковал, и сколько у противника осталось здоровья. Как только у кого-то  \n",
    "заканчивается ресурс здоровья, программа завершается сообщением о том,  \n",
    "кто одержал победу."
   ]
  },
  {
   "cell_type": "code",
   "execution_count": 3,
   "id": "2d31ca85",
   "metadata": {},
   "outputs": [
    {
     "name": "stdout",
     "output_type": "stream",
     "text": [
      "Enter 1 to attack. Enter 2 to stop programm1\n",
      "Warrior1  has attacked\n",
      "80  left\n",
      "Enter 1 to let some warrior attack:1\n",
      "Warrior1  has attacked\n",
      "60  left\n",
      "Enter 1 to let some warrior attack:1\n",
      "Warrior1  has attacked\n",
      "40  left\n",
      "Enter 1 to let some warrior attack:1\n",
      "Warrior1  has attacked\n",
      "20  left\n",
      "Enter 1 to let some warrior attack:1\n",
      "Warrior1  has attacked\n",
      "0  left\n",
      "Warrior1  has won\n",
      "Enter 1 to let some warrior attack:1\n",
      "Warrior2  has attacked\n",
      "80  left\n",
      "Enter 1 to let some warrior attack:1\n",
      "Warrior1  has attacked\n",
      "0  left\n",
      "Warrior1  has won\n",
      "Enter 1 to let some warrior attack:1\n",
      "Warrior2  has attacked\n",
      "60  left\n",
      "Enter 1 to let some warrior attack:1\n",
      "Warrior2  has attacked\n",
      "40  left\n",
      "Enter 1 to let some warrior attack:2\n"
     ]
    }
   ],
   "source": [
    "import random\n",
    "class Warrior:\n",
    "    def __init__(self, health):\n",
    "        self.health = health\n",
    "        \n",
    "    def hit(self, target, target1):\n",
    "        if target.health > 0:\n",
    "            target.health -= 20\n",
    "        if target1 == warrior1:\n",
    "            target1 = \"Warrior1\"\n",
    "        if target1 == warrior2:\n",
    "            target1 = \"Warrior2\"\n",
    "        print(target1, \" has attacked\")\n",
    "        print(target.health, \" left\")\n",
    "        if target.health == 0:\n",
    "            print(target1, \" has won\")\n",
    "            \n",
    "warrior1 = Warrior(100)\n",
    "warrior2 = Warrior(100)\n",
    "q = int(input(\"Enter 1 to attack. Enter 2 to stop programm\"))\n",
    "while q != 2:\n",
    "    if q == 1:\n",
    "        j = random.randint(1, 3)\n",
    "        if j % 2 == 0:\n",
    "            warrior1.hit(warrior2, warrior1)\n",
    "            q = int(input(\"Enter 1 to let some warrior attack:\"))\n",
    "        else:\n",
    "            warrior2.hit(warrior1, warrior2)\n",
    "            q = int(input(\"Enter 1 to let some warrior attack:\"))\n",
    "    else:\n",
    "        print(\"Wrong input.\")\n",
    "        break"
   ]
  },
  {
   "cell_type": "markdown",
   "id": "3ae70839",
   "metadata": {},
   "source": [
    "### 1.2.3 Пример"
   ]
  },
  {
   "cell_type": "markdown",
   "id": "a81ddb10",
   "metadata": {},
   "source": [
    "Создайте класс по работе с дробями. В классе должна быть  \n",
    "реализована следующая функциональность:  \n",
    "- сложение дробей;  \n",
    "- вычитание дробей;  \n",
    "- умножение дробей;  \n",
    "- деление дробей."
   ]
  },
  {
   "cell_type": "code",
   "execution_count": 20,
   "id": "cf73ab78",
   "metadata": {},
   "outputs": [
    {
     "name": "stdout",
     "output_type": "stream",
     "text": [
      "5/6\n",
      "1/6\n",
      "1/6\n",
      "1/6\n",
      "3/2\n",
      "13/2\n"
     ]
    }
   ],
   "source": [
    "class Rational:\n",
    "    \n",
    "    @staticmethod\n",
    "    def gcd(a, b):\n",
    "        while (b != 0):\n",
    "            (a, b) = (b, a % b)\n",
    "        return a\n",
    "    \n",
    "    @staticmethod\n",
    "    def sgn(x):\n",
    "        if x > 0:\n",
    "            return 1\n",
    "        elif x < 0:\n",
    "            return -1\n",
    "        else:\n",
    "            return 0\n",
    "    \n",
    "    def __init__(self, n, d):\n",
    "        if n == 0:\n",
    "            self.num = 0\n",
    "            self.den = 1\n",
    "        else:\n",
    "            z = self.sgn(n) * self.sgn(d)\n",
    "            n = abs(n)\n",
    "            d = abs(d)\n",
    "            k = self.gcd(n, d)\n",
    "            self.num = z * n // k\n",
    "            self.den = d // k\n",
    "    \n",
    "    def __str__(self):\n",
    "        if self.num == 0:\n",
    "            return \"0\"\n",
    "        else:\n",
    "            return str(self.num) + \"/\" + str(self.den)\n",
    "    \n",
    "    def __add__(self, o):\n",
    "        n1 = self.num\n",
    "        d1 = self.den\n",
    "        if type(o) == int:\n",
    "            n2 = o\n",
    "            d2 = 1\n",
    "        else:\n",
    "            n2 = o.num\n",
    "            d2 = o.den\n",
    "        n = n1 * d2 + n2 * d1\n",
    "        d = d1 * d2\n",
    "        return Rational(n, d)\n",
    "    \n",
    "    def __radd__(self, o):\n",
    "        n1 = self.num\n",
    "        d1 = self.den\n",
    "        if type(o) == int:\n",
    "            n2 = o\n",
    "            d2 = 1\n",
    "        else:\n",
    "            n2 = o.num\n",
    "            d2 = o.den\n",
    "        n = n1 * d2 + n2 * d1\n",
    "        d = d1 * d2\n",
    "        return Rational(n, d)\n",
    "    \n",
    "    def __sub__(self, o):\n",
    "        n1 = self.num\n",
    "        d1 = self.den\n",
    "        n2 = o.num\n",
    "        d2 = o.den\n",
    "        n = n1 * d2 - n2 * d1\n",
    "        d = d1 * d2\n",
    "        return Rational(n , d)\n",
    "    \n",
    "    def __mul__(self, o):\n",
    "        n1 = self.num\n",
    "        d1 = self.den\n",
    "        n2 = o.num\n",
    "        d2 = o.den\n",
    "        n = n1 * n2\n",
    "        d = d1 * d2\n",
    "        return Rational(n, d)\n",
    "    \n",
    "    def __floordiv__(self, o):\n",
    "        n1 = self.num\n",
    "        d1 = self.den\n",
    "        n2 = o.num\n",
    "        d2 = o.den\n",
    "        n = n1 * d2\n",
    "        d = d1 * n2\n",
    "        return Rational(n, d)\n",
    "    \n",
    "d1 = Rational(1, 2)\n",
    "d2 = Rational(1, 3)\n",
    "d3 = d1 + d2\n",
    "print(d3)\n",
    "d4 = d1 - d2\n",
    "print(d4)\n",
    "d5 = d1 * d2\n",
    "print(d5)\n",
    "d6 = d1 * d2\n",
    "print(d6)\n",
    "d7 = d1 // d2\n",
    "print(d7)\n",
    "d8 = 6 + d1\n",
    "print(d8)\n"
   ]
  },
  {
   "cell_type": "markdown",
   "id": "e89939a2",
   "metadata": {},
   "source": [
    "### Задание"
   ]
  },
  {
   "cell_type": "markdown",
   "id": "a7355a66",
   "metadata": {},
   "source": [
    "Создайте класс по работе с тригонометрическими функциями. В классе  \n",
    "должны быть реализованы функции вычисления:  \n",
    "- косинуса;  \n",
    "- синуса;  \n",
    "- тангенса;  \n",
    "- арксинуса;  \n",
    "- арккосинуса;  \n",
    "- арктангенса;  \n",
    "- перевода из градусов в радианы."
   ]
  },
  {
   "cell_type": "code",
   "execution_count": null,
   "id": "6a94777a",
   "metadata": {},
   "outputs": [],
   "source": []
  },
  {
   "cell_type": "markdown",
   "id": "1d7e1ba4",
   "metadata": {},
   "source": [
    "### 1.2.1 Пример"
   ]
  },
  {
   "cell_type": "markdown",
   "id": "d8a978ef",
   "metadata": {},
   "source": [
    "Определите класс бинарного дерева и задайте его объекты с отдельным  \n",
    "атрибутом для каждого из потомков."
   ]
  },
  {
   "cell_type": "code",
   "execution_count": 21,
   "id": "8239039e",
   "metadata": {},
   "outputs": [
    {
     "data": {
      "text/plain": [
       "'c'"
      ]
     },
     "execution_count": 21,
     "metadata": {},
     "output_type": "execute_result"
    }
   ],
   "source": [
    "class Tree:\n",
    "    def __init__(self, left, right):\n",
    "        self.left = left\n",
    "        self.right = right\n",
    "        \n",
    "t = Tree(Tree(\"a\", \"b\"), Tree(\"c\", \"d\"))\n",
    "t.right.left"
   ]
  },
  {
   "cell_type": "markdown",
   "id": "e5291298",
   "metadata": {},
   "source": [
    "### 1.2.2 Пример"
   ]
  },
  {
   "cell_type": "markdown",
   "id": "1a312700",
   "metadata": {},
   "source": [
    "Для обозначения отсутствующих потомков можно использовать None  \n",
    "(в случае если у узла только один потомок). Само собой, можно  \n",
    "комбинировать разные методы (например, использовать списки или  \n",
    "множества потомков для каждого узла).  \n",
    "\n",
    "Распространенный способ реализации деревьев, особенно на языках,  \n",
    "не имеющих встроенной поддержки списков, это так называемое  \n",
    "представление «первый потомок, следующий брат». В нем каждый узел  \n",
    "имеет два «указателя» или атрибута, указывающих на другие узлы, как в  \n",
    "бинарном дереве. Однако, первый из этих атрибутов ссылается на первого  \n",
    "потомка узла, а второй — на его следующего брата (т.е. узел, имеющий  \n",
    "того же родителя, но находящийся правее, — прим. перев). Иными  \n",
    "словами, каждый узел дерева имеет указатель на связанный список его  \n",
    "потомков, а каждый из этих потомков ссылается на свой собственный  \n",
    "аналогичный список. Таким образом, небольшая модификация бинарного  \n",
    "дерева даст нам многопутевое дерево, показанное в листинге ниже.  "
   ]
  },
  {
   "cell_type": "code",
   "execution_count": 22,
   "id": "6ecb6a91",
   "metadata": {},
   "outputs": [
    {
     "data": {
      "text/plain": [
       "'c'"
      ]
     },
     "execution_count": 22,
     "metadata": {},
     "output_type": "execute_result"
    }
   ],
   "source": [
    "class Tree:\n",
    "    def __init__(self, kids, next=None):\n",
    "        self.kids = self.val = kids\n",
    "        self.next = next\n",
    "\n",
    "t = Tree(Tree(\"a\", Tree(\"b\", Tree(\"c\", Tree(\"d\")))))\n",
    "t.kids.next.next.val"
   ]
  },
  {
   "cell_type": "markdown",
   "id": "f08c3eb4",
   "metadata": {},
   "source": [
    "### Задание"
   ]
  },
  {
   "cell_type": "markdown",
   "id": "c622e52c",
   "metadata": {},
   "source": [
    "Представьте дерево показанное на рисунке с использованием списка из  \n",
    "списков. Выведите на печать корень дерева, а также его левое и правое  \n",
    "поддеревья.  \n",
    "![](tree1.jpg)"
   ]
  },
  {
   "cell_type": "code",
   "execution_count": 11,
   "id": "bfd385cb",
   "metadata": {},
   "outputs": [
    {
     "name": "stdout",
     "output_type": "stream",
     "text": [
      "b\n",
      "d\n",
      "e\n",
      "a\n",
      "f\n",
      "c\n"
     ]
    }
   ],
   "source": [
    "T = ['a', ['b', ['d'], ['e']], ['c', ['f']]]\n",
    "print(T[1][0])\n",
    "print(T[1][1][0])\n",
    "print(T[1][2][0])\n",
    "print(T[0])\n",
    "print(T[2][1][0])\n",
    "print(T[2][0])"
   ]
  },
  {
   "cell_type": "markdown",
   "id": "27cae002",
   "metadata": {},
   "source": [
    "### Задание"
   ]
  },
  {
   "cell_type": "markdown",
   "id": "11ad1ce5",
   "metadata": {},
   "source": [
    "Дан класс, описывающий бинарное дерево.  \n",
    "\n",
    "`class Tree:\n",
    "    def __init__(self, data):\n",
    "        self.left = None\n",
    "        self.right = None\n",
    "        self.data = data\n",
    "    def PrintTree(self):\n",
    "        print(self.data)`  \n",
    "\n",
    "Реализуйте в классе функцию для вставки нового элемента в дерево по  \n",
    "следующим правилам:\n",
    "* Левое поддерево узла содержит только узлы со значениями меньше,  \n",
    "чем значение в узле.  \n",
    "* Правое поддерево узла содержит только узлы со значениями больше,  \n",
    "чем значение в узле.  \n",
    "* Каждое из левого и правого поддеревьев также должно быть  \n",
    "бинарным деревом поиска.  \n",
    "* Не должно быть повторяющихся узлов.  \n",
    "\n",
    "Метод вставки сравнивает значение узла с родительским узлом и решает  \n",
    "куда доваить элемент (в левое или правое поддерево). Перепишите, метод  \n",
    "PrintTree для печати полной версии дерева."
   ]
  },
  {
   "cell_type": "code",
   "execution_count": 14,
   "id": "43c194e5",
   "metadata": {},
   "outputs": [
    {
     "name": "stdout",
     "output_type": "stream",
     "text": [
      "1\n",
      "3\n",
      "5\n",
      "7\n",
      "9\n"
     ]
    }
   ],
   "source": [
    "class Tree:\n",
    "    def __init__(self, data):\n",
    "        self.left = None\n",
    "        self.right = None\n",
    "        self.data = data\n",
    "        \n",
    "    def insert(self, value):\n",
    "        if value == self.data:\n",
    "            return # не добавляем повторяющиеся значения\n",
    "        elif value < self.data:\n",
    "            if self.left is None:\n",
    "                self.left = Tree(value)\n",
    "            else:\n",
    "                self.left.insert(value)\n",
    "        else:\n",
    "            if self.right is None:\n",
    "                self.right = Tree(value)\n",
    "            else:\n",
    "                self.right.insert(value)\n",
    "\n",
    "    def PrintTree(self):\n",
    "        if self.left:\n",
    "            self.left.PrintTree()\n",
    "        print(self.data)\n",
    "        if self.right:\n",
    "            self.right.PrintTree()\n",
    "\n",
    "tree = Tree(5)\n",
    "tree.insert(3)\n",
    "tree.insert(7)\n",
    "tree.insert(1)\n",
    "tree.insert(9)\n",
    "tree.PrintTree()"
   ]
  },
  {
   "cell_type": "markdown",
   "id": "212adeae",
   "metadata": {},
   "source": [
    "### 1.3.1 Пример"
   ]
  },
  {
   "cell_type": "markdown",
   "id": "8a2c87af",
   "metadata": {},
   "source": [
    "Построим дерево решений для задачи классификации, для этого, построим  \n",
    "границу решения для каждого класса. В качестве данных будем  \n",
    "использовать уже знакомый нам и встроенный в библиотеку sklearn набор  \n",
    "данных ирисов Фишера. Импортируем библиотеки, набор данных и  \n",
    "посмотрим его характеристики."
   ]
  },
  {
   "cell_type": "code",
   "execution_count": 15,
   "id": "b2f394bb",
   "metadata": {},
   "outputs": [
    {
     "name": "stdout",
     "output_type": "stream",
     "text": [
      "     sepal_length  sepal_width  petal_length  petal_width    species\n",
      "0             5.1          3.5           1.4          0.2     setosa\n",
      "1             4.9          3.0           1.4          0.2     setosa\n",
      "2             4.7          3.2           1.3          0.2     setosa\n",
      "3             4.6          3.1           1.5          0.2     setosa\n",
      "4             5.0          3.6           1.4          0.2     setosa\n",
      "..            ...          ...           ...          ...        ...\n",
      "145           6.7          3.0           5.2          2.3  virginica\n",
      "146           6.3          2.5           5.0          1.9  virginica\n",
      "147           6.5          3.0           5.2          2.0  virginica\n",
      "148           6.2          3.4           5.4          2.3  virginica\n",
      "149           5.9          3.0           5.1          1.8  virginica\n",
      "\n",
      "[150 rows x 5 columns]\n",
      "(150, 5)\n",
      "<bound method NDFrame.head of      sepal_length  sepal_width  petal_length  petal_width    species\n",
      "0             5.1          3.5           1.4          0.2     setosa\n",
      "1             4.9          3.0           1.4          0.2     setosa\n",
      "2             4.7          3.2           1.3          0.2     setosa\n",
      "3             4.6          3.1           1.5          0.2     setosa\n",
      "4             5.0          3.6           1.4          0.2     setosa\n",
      "..            ...          ...           ...          ...        ...\n",
      "145           6.7          3.0           5.2          2.3  virginica\n",
      "146           6.3          2.5           5.0          1.9  virginica\n",
      "147           6.5          3.0           5.2          2.0  virginica\n",
      "148           6.2          3.4           5.4          2.3  virginica\n",
      "149           5.9          3.0           5.1          1.8  virginica\n",
      "\n",
      "[150 rows x 5 columns]>\n"
     ]
    }
   ],
   "source": [
    "import pandas as pd\n",
    "import numpy as np\n",
    "import seaborn as sns\n",
    "import matplotlib.pyplot as plt\n",
    "\n",
    "dataset = sns.load_dataset('iris')\n",
    "print(dataset)\n",
    "print(dataset.shape)\n",
    "print(dataset.head)"
   ]
  },
  {
   "cell_type": "markdown",
   "id": "f92cc9b2",
   "metadata": {},
   "source": [
    "Далее, разделим наши данные на атрибуты и метки, а затем выделим в  \n",
    "общей совокупности полученных данных обучающие и тестовые наборы.  \n",
    "Таким образом, мы можем обучить наш алгоритм на одном наборе данных,  \n",
    "а затем протестировать его на совершенно на другом наборе, который  \n",
    "алгоритм еще не видел. Это дает вам более точное представление о том,  \n",
    "как на самом деле будет работать ваш обученный алгоритм."
   ]
  },
  {
   "cell_type": "code",
   "execution_count": 16,
   "id": "ae379a92",
   "metadata": {},
   "outputs": [
    {
     "name": "stdout",
     "output_type": "stream",
     "text": [
      "(120, 4) (30, 4) (120,) (30,)\n",
      "     sepal_length  sepal_width  petal_length  petal_width\n",
      "117           7.7          3.8           6.7          2.2\n",
      "58            6.6          2.9           4.6          1.3\n",
      "91            6.1          3.0           4.6          1.4\n",
      "86            6.7          3.1           4.7          1.5\n",
      "36            5.5          3.5           1.3          0.2\n",
      "117     virginica\n",
      "58     versicolor\n",
      "91     versicolor\n",
      "86     versicolor\n",
      "36         setosa\n",
      "Name: species, dtype: object\n"
     ]
    }
   ],
   "source": [
    "from sklearn.model_selection import train_test_split\n",
    "\n",
    "x_train, x_test, y_train, y_test = train_test_split(\n",
    "    # поскольку iris это pandas-таблица, для нее нужно указывать iloc\n",
    "    dataset.iloc[:, : -1], # берем все колонки кроме последней в признаки\n",
    "    dataset.iloc[:, -1], # последнюю в целевую переменную (класс)\n",
    "    test_size = 0.20 # размер тестовой выборки 20%\n",
    ")\n",
    "\n",
    "print(x_train.shape, x_test.shape, y_train.shape, y_test.shape)\n",
    "print(x_train.head())\n",
    "print(y_train.head())"
   ]
  },
  {
   "cell_type": "markdown",
   "id": "60c8c6e3",
   "metadata": {},
   "source": [
    "После того, как данные были разделены на обучающие и тестовые наборы,  \n",
    "последний шаг состоит в том, чтобы обучить алгоритм дерева решений на  \n",
    "этих данных и сделать прогнозы. Scikit-Learn содержит библиотеку tree,  \n",
    "которая содержит встроенные классы/методы для различных алгоритмов  \n",
    "дерева решений. Поскольку мы собираемся выполнить здесь задачу  \n",
    "классификации, мы будем использовать класс DecisionTreeClassifier для  \n",
    "этого примера. Метод fit этого класса вызывается для обучения алгоритма  \n",
    "на обучающих данных, которые передаются в качестве параметра методу  \n",
    "fit . Выполним следующий сценарий для обучения алгоритма."
   ]
  },
  {
   "cell_type": "code",
   "execution_count": 17,
   "id": "5470e9f7",
   "metadata": {},
   "outputs": [
    {
     "data": {
      "text/plain": [
       "[Text(0.4, 0.9166666666666666, 'X[3] <= 0.8\\ngini = 0.664\\nsamples = 120\\nvalue = [44, 35, 41]'),\n",
       " Text(0.3, 0.75, 'gini = 0.0\\nsamples = 44\\nvalue = [44, 0, 0]'),\n",
       " Text(0.5, 0.75, 'X[3] <= 1.65\\ngini = 0.497\\nsamples = 76\\nvalue = [0, 35, 41]'),\n",
       " Text(0.2, 0.5833333333333334, 'X[2] <= 4.95\\ngini = 0.149\\nsamples = 37\\nvalue = [0, 34, 3]'),\n",
       " Text(0.1, 0.4166666666666667, 'gini = 0.0\\nsamples = 33\\nvalue = [0, 33, 0]'),\n",
       " Text(0.3, 0.4166666666666667, 'X[3] <= 1.55\\ngini = 0.375\\nsamples = 4\\nvalue = [0, 1, 3]'),\n",
       " Text(0.2, 0.25, 'gini = 0.0\\nsamples = 2\\nvalue = [0, 0, 2]'),\n",
       " Text(0.4, 0.25, 'X[0] <= 6.6\\ngini = 0.5\\nsamples = 2\\nvalue = [0, 1, 1]'),\n",
       " Text(0.3, 0.08333333333333333, 'gini = 0.0\\nsamples = 1\\nvalue = [0, 1, 0]'),\n",
       " Text(0.5, 0.08333333333333333, 'gini = 0.0\\nsamples = 1\\nvalue = [0, 0, 1]'),\n",
       " Text(0.8, 0.5833333333333334, 'X[2] <= 4.85\\ngini = 0.05\\nsamples = 39\\nvalue = [0, 1, 38]'),\n",
       " Text(0.7, 0.4166666666666667, 'X[1] <= 3.1\\ngini = 0.375\\nsamples = 4\\nvalue = [0, 1, 3]'),\n",
       " Text(0.6, 0.25, 'gini = 0.0\\nsamples = 3\\nvalue = [0, 0, 3]'),\n",
       " Text(0.8, 0.25, 'gini = 0.0\\nsamples = 1\\nvalue = [0, 1, 0]'),\n",
       " Text(0.9, 0.4166666666666667, 'gini = 0.0\\nsamples = 35\\nvalue = [0, 0, 35]')]"
      ]
     },
     "execution_count": 17,
     "metadata": {},
     "output_type": "execute_result"
    },
    {
     "data": {
      "image/png": "[encoded data removed]",
      "text/plain": [
       "<Figure size 640x480 with 1 Axes>"
      ]
     },
     "metadata": {},
     "output_type": "display_data"
    }
   ],
   "source": [
    "from sklearn.tree import DecisionTreeClassifier\n",
    "classifier = DecisionTreeClassifier()\n",
    "classifier.fit(x_train, y_train)\n",
    "\n",
    "# построим дерево решений\n",
    "from sklearn import tree\n",
    "tree.plot_tree(classifier)"
   ]
  },
  {
   "cell_type": "markdown",
   "id": "bc51fb3c",
   "metadata": {},
   "source": [
    "Теперь, когда наш классификатор обучен, давайте сделаем прогнозы по  \n",
    "тестовым данным. Для составления прогнозов используется метод predict  \n",
    "класса Decision Tree Classifier. Взгляните на следующий код для  \n",
    "использования."
   ]
  },
  {
   "cell_type": "code",
   "execution_count": 20,
   "id": "57550dc6",
   "metadata": {},
   "outputs": [
    {
     "data": {
      "text/plain": [
       "array(['versicolor', 'versicolor', 'versicolor', 'virginica', 'virginica',\n",
       "       'setosa', 'setosa', 'versicolor', 'virginica', 'virginica',\n",
       "       'versicolor', 'setosa', 'versicolor', 'virginica', 'setosa',\n",
       "       'versicolor', 'versicolor', 'virginica', 'versicolor',\n",
       "       'versicolor', 'setosa', 'virginica', 'versicolor', 'setosa',\n",
       "       'virginica', 'versicolor', 'versicolor', 'versicolor', 'virginica',\n",
       "       'virginica'], dtype=object)"
      ]
     },
     "execution_count": 20,
     "metadata": {},
     "output_type": "execute_result"
    }
   ],
   "source": [
    "y_pred = classifier.predict(x_test)\n",
    "y_pred"
   ]
  },
  {
   "cell_type": "markdown",
   "id": "ae8955f9",
   "metadata": {},
   "source": [
    "На данный момент мы обучили наш алгоритм и сделали некоторые  \n",
    "прогнозы. Теперь посмотрим, насколько точен наш алгоритм. Для задач  \n",
    "классификации обычно используются такие метрики, как матрица  \n",
    "путаницы, точность. Библиотека Scikit-Learn metrics содержит методы  \n",
    "classification_report и confusion_matrix, которые могут быть использованы  \n",
    "для расчета этих метрик."
   ]
  },
  {
   "cell_type": "code",
   "execution_count": 21,
   "id": "eb4eb4ca",
   "metadata": {},
   "outputs": [
    {
     "name": "stdout",
     "output_type": "stream",
     "text": [
      "[[ 6  0  0]\n",
      " [ 0 14  1]\n",
      " [ 0  0  9]]\n",
      "              precision    recall  f1-score   support\n",
      "\n",
      "      setosa       1.00      1.00      1.00         6\n",
      "  versicolor       1.00      0.93      0.97        15\n",
      "   virginica       0.90      1.00      0.95         9\n",
      "\n",
      "    accuracy                           0.97        30\n",
      "   macro avg       0.97      0.98      0.97        30\n",
      "weighted avg       0.97      0.97      0.97        30\n",
      "\n"
     ]
    }
   ],
   "source": [
    "from sklearn.metrics import classification_report, confusion_matrix\n",
    "print(confusion_matrix(y_test, y_pred))\n",
    "print(classification_report(y_test, y_pred))"
   ]
  },
  {
   "cell_type": "markdown",
   "id": "a9af203c",
   "metadata": {},
   "source": [
    "### Задание"
   ]
  },
  {
   "cell_type": "markdown",
   "id": "4d272ac1",
   "metadata": {},
   "source": [
    "Постройте классификатор на основе дерева принятия решений  \n",
    "следующего датасета  \n",
    "`# данные\n",
    "x = np.array([[-1, -1], [-2, -1], [-3, -2], [1, 1], [2, 1], [3, 2]])\n",
    "target = [0, 0, 0, 1, 1, 1]`"
   ]
  },
  {
   "cell_type": "code",
   "execution_count": 6,
   "id": "91c29f7c",
   "metadata": {},
   "outputs": [
    {
     "name": "stdout",
     "output_type": "stream",
     "text": [
      "[[2]]\n",
      "              precision    recall  f1-score   support\n",
      "\n",
      "           1       1.00      1.00      1.00         2\n",
      "\n",
      "    accuracy                           1.00         2\n",
      "   macro avg       1.00      1.00      1.00         2\n",
      "weighted avg       1.00      1.00      1.00         2\n",
      "\n"
     ]
    }
   ],
   "source": [
    "import pandas as pd\n",
    "import numpy as np\n",
    "from sklearn.tree import DecisionTreeClassifier\n",
    "from sklearn.model_selection import train_test_split\n",
    "from sklearn.metrics import classification_report, confusion_matrix\n",
    "\n",
    "x = np.array([[-1, -1], [-2, -1], [-3, -2], [1, 1], [2, 1], [3, 2]])\n",
    "target = [0, 0, 0, 1, 1, 1]\n",
    "\n",
    "x_train, x_test, y_train, y_test = train_test_split(x, target, test_size = 0.20)\n",
    "\n",
    "# создание экземпляра класса DecisionTreeClassifier\n",
    "clf = DecisionTreeClassifier()\n",
    "\n",
    "# обучение модели на тренировочных данных\n",
    "clf.fit(x_train, y_train)\n",
    "\n",
    "# предсказание классов на тестовых данных\n",
    "y_pred = clf.predict(x_test)\n",
    "\n",
    "print(confusion_matrix(y_test, y_pred))\n",
    "print(classification_report(y_test, y_pred))"
   ]
  },
  {
   "cell_type": "markdown",
   "id": "26b832bb",
   "metadata": {},
   "source": [
    "### 1.4.1 Пример"
   ]
  },
  {
   "cell_type": "markdown",
   "id": "fa7b1eab",
   "metadata": {},
   "source": [
    "Постойте регрессию с использованием дерева решений, реализованного в  \n",
    "Python."
   ]
  },
  {
   "cell_type": "code",
   "execution_count": 32,
   "id": "79116f7a",
   "metadata": {},
   "outputs": [
    {
     "name": "stdout",
     "output_type": "stream",
     "text": [
      "(30, 2)\n",
      "       YearsExperience         Salary\n",
      "count        30.000000      30.000000\n",
      "mean          5.313333   76003.000000\n",
      "std           2.837888   27414.429785\n",
      "min           1.100000   37731.000000\n",
      "25%           3.200000   56720.750000\n",
      "50%           4.700000   65237.000000\n",
      "75%           7.700000  100544.750000\n",
      "max          10.500000  122391.000000\n"
     ]
    },
    {
     "data": {
      "image/png": "[encoded data removed]",
      "text/plain": [
       "<Figure size 640x480 with 1 Axes>"
      ]
     },
     "metadata": {},
     "output_type": "display_data"
    },
    {
     "name": "stdout",
     "output_type": "stream",
     "text": [
      "[[ 1.1]\n",
      " [ 1.3]\n",
      " [ 1.5]\n",
      " [ 2. ]\n",
      " [ 2.2]\n",
      " [ 2.9]\n",
      " [ 3. ]\n",
      " [ 3.2]\n",
      " [ 3.2]\n",
      " [ 3.7]\n",
      " [ 3.9]\n",
      " [ 4. ]\n",
      " [ 4. ]\n",
      " [ 4.1]\n",
      " [ 4.5]\n",
      " [ 4.9]\n",
      " [ 5.1]\n",
      " [ 5.3]\n",
      " [ 5.9]\n",
      " [ 6. ]\n",
      " [ 6.8]\n",
      " [ 7.1]\n",
      " [ 7.9]\n",
      " [ 8.2]\n",
      " [ 8.7]\n",
      " [ 9. ]\n",
      " [ 9.5]\n",
      " [ 9.6]\n",
      " [10.3]\n",
      " [10.5]]\n",
      "[ 39343.  46205.  37731.  43525.  39891.  56642.  60150.  54445.  64445.\n",
      "  57189.  63218.  55794.  56957.  57081.  61111.  67938.  66029.  83088.\n",
      "  81363.  93940.  91738.  98273. 101302. 113812. 109431. 105582. 116969.\n",
      " 112635. 122391. 121872.]\n",
      "DecisionTreeRegressor()\n",
      "[Text(0.4956896551724138, 0.9375, 'X[0] <= 5.2\\nsquared_error = 614737637.832\\nsamples = 24\\nvalue = 73886.208'), Text(0.20689655172413793, 0.8125, 'X[0] <= 2.55\\nsquared_error = 81200345.857\\nsamples = 14\\nvalue = 54976.0'), Text(0.06896551724137931, 0.6875, 'X[0] <= 1.2\\nsquared_error = 7820714.0\\nsamples = 4\\nvalue = 42241.0'), Text(0.034482758620689655, 0.5625, 'squared_error = 0.0\\nsamples = 1\\nvalue = 39343.0'), Text(0.10344827586206896, 0.5625, 'X[0] <= 2.1\\nsquared_error = 6694994.667\\nsamples = 3\\nvalue = 43207.0'), Text(0.06896551724137931, 0.4375, 'X[0] <= 1.65\\nsquared_error = 1795600.0\\nsamples = 2\\nvalue = 44865.0'), Text(0.034482758620689655, 0.3125, 'squared_error = 0.0\\nsamples = 1\\nvalue = 46205.0'), Text(0.10344827586206896, 0.3125, 'squared_error = 0.0\\nsamples = 1\\nvalue = 43525.0'), Text(0.13793103448275862, 0.4375, 'squared_error = 0.0\\nsamples = 1\\nvalue = 39891.0'), Text(0.3448275862068966, 0.6875, 'X[0] <= 4.7\\nsquared_error = 19731272.6\\nsamples = 10\\nvalue = 60070.0'), Text(0.27586206896551724, 0.5625, 'X[0] <= 4.25\\nsquared_error = 9499922.484\\nsamples = 8\\nvalue = 58341.625'), Text(0.2413793103448276, 0.4375, 'X[0] <= 3.45\\nsquared_error = 9604901.143\\nsamples = 7\\nvalue = 57946.0'), Text(0.1724137931034483, 0.3125, 'X[0] <= 2.95\\nsquared_error = 14313358.25\\nsamples = 4\\nvalue = 58920.5'), Text(0.13793103448275862, 0.1875, 'squared_error = 0.0\\nsamples = 1\\nvalue = 56642.0'), Text(0.20689655172413793, 0.1875, 'X[0] <= 3.1\\nsquared_error = 16777116.667\\nsamples = 3\\nvalue = 59680.0'), Text(0.1724137931034483, 0.0625, 'squared_error = 0.0\\nsamples = 1\\nvalue = 60150.0'), Text(0.2413793103448276, 0.0625, 'squared_error = 25000000.0\\nsamples = 2\\nvalue = 59445.0'), Text(0.3103448275862069, 0.3125, 'X[0] <= 3.85\\nsquared_error = 372490.889\\nsamples = 3\\nvalue = 56646.667'), Text(0.27586206896551724, 0.1875, 'squared_error = 0.0\\nsamples = 1\\nvalue = 57189.0'), Text(0.3448275862068966, 0.1875, 'squared_error = 338142.25\\nsamples = 2\\nvalue = 56375.5'), Text(0.3103448275862069, 0.4375, 'squared_error = 0.0\\nsamples = 1\\nvalue = 61111.0'), Text(0.41379310344827586, 0.5625, 'X[0] <= 5.0\\nsquared_error = 911070.25\\nsamples = 2\\nvalue = 66983.5'), Text(0.3793103448275862, 0.4375, 'squared_error = 0.0\\nsamples = 1\\nvalue = 67938.0'), Text(0.4482758620689655, 0.4375, 'squared_error = 0.0\\nsamples = 1\\nvalue = 66029.0'), Text(0.7844827586206896, 0.8125, 'X[0] <= 8.05\\nsquared_error = 160167356.45\\nsamples = 10\\nvalue = 100360.5'), Text(0.6379310344827587, 0.6875, 'X[0] <= 5.95\\nsquared_error = 53566814.556\\nsamples = 6\\nvalue = 91617.333'), Text(0.5517241379310345, 0.5625, 'X[0] <= 5.6\\nsquared_error = 743906.25\\nsamples = 2\\nvalue = 82225.5'), Text(0.5172413793103449, 0.4375, 'squared_error = 0.0\\nsamples = 1\\nvalue = 83088.0'), Text(0.5862068965517241, 0.4375, 'squared_error = 0.0\\nsamples = 1\\nvalue = 81363.0'), Text(0.7241379310344828, 0.5625, 'X[0] <= 6.95\\nsquared_error = 13823368.688\\nsamples = 4\\nvalue = 96313.25'), Text(0.6551724137931034, 0.4375, 'X[0] <= 6.4\\nsquared_error = 1212201.0\\nsamples = 2\\nvalue = 92839.0'), Text(0.6206896551724138, 0.3125, 'squared_error = 0.0\\nsamples = 1\\nvalue = 93940.0'), Text(0.6896551724137931, 0.3125, 'squared_error = 0.0\\nsamples = 1\\nvalue = 91738.0'), Text(0.7931034482758621, 0.4375, 'X[0] <= 7.5\\nsquared_error = 2293710.25\\nsamples = 2\\nvalue = 99787.5'), Text(0.7586206896551724, 0.3125, 'squared_error = 0.0\\nsamples = 1\\nvalue = 98273.0'), Text(0.8275862068965517, 0.3125, 'squared_error = 0.0\\nsamples = 1\\nvalue = 101302.0'), Text(0.9310344827586207, 0.6875, 'X[0] <= 10.05\\nsquared_error = 33407056.688\\nsamples = 4\\nvalue = 113475.25'), Text(0.896551724137931, 0.5625, 'X[0] <= 8.6\\nsquared_error = 13207004.222\\nsamples = 3\\nvalue = 110676.333'), Text(0.8620689655172413, 0.4375, 'squared_error = 0.0\\nsamples = 1\\nvalue = 113812.0'), Text(0.9310344827586207, 0.4375, 'X[0] <= 9.3\\nsquared_error = 12436202.25\\nsamples = 2\\nvalue = 109108.5'), Text(0.896551724137931, 0.3125, 'squared_error = 0.0\\nsamples = 1\\nvalue = 105582.0'), Text(0.9655172413793104, 0.3125, 'squared_error = 0.0\\nsamples = 1\\nvalue = 112635.0'), Text(0.9655172413793104, 0.5625, 'squared_error = 0.0\\nsamples = 1\\nvalue = 121872.0')]\n",
      "[ 46205.  121872.   56375.5  56375.5 112635.  105582. ]\n",
      "     Actual  Predicted\n",
      "0   37731.0    46205.0\n",
      "1  122391.0   121872.0\n",
      "2   57081.0    56375.5\n",
      "3   63218.0    56375.5\n",
      "4  116969.0   112635.0\n",
      "5  109431.0   105582.0\n",
      "Mean Squared Error: 25498988.416666668\n",
      "Mean Absolute Error: 4120.666666666667\n"
     ]
    },
    {
     "data": {
      "text/plain": [
       "5.421715809463662"
      ]
     },
     "execution_count": 32,
     "metadata": {},
     "output_type": "execute_result"
    },
    {
     "data": {
      "image/png": "[encoded data removed]",
      "text/plain": [
       "<Figure size 640x480 with 1 Axes>"
      ]
     },
     "metadata": {},
     "output_type": "display_data"
    }
   ],
   "source": [
    "import pandas as pd\n",
    "import numpy as np\n",
    "import matplotlib.pyplot as plt\n",
    "\n",
    "url = r'https://raw.githubusercontent.com/AnnaShestova/salary-years-simple-linear-regression/master/Salary_Data.csv'\n",
    "dataset = pd.read_csv(url)\n",
    "dataset.head()\n",
    "\n",
    "# Исследуем набор данных\n",
    "print(dataset.shape)\n",
    "print(dataset.describe())\n",
    "\n",
    "# Нарисуем точечную диаграмму\n",
    "plt.scatter(dataset['YearsExperience'], dataset['Salary'], color='b', label=\"Заработная плата\")\n",
    "plt.xlabel(\"Опыт(лет)\")\n",
    "plt.ylabel(\"Заработная плата\")\n",
    "plt.show()\n",
    "\n",
    "from sklearn.tree import DecisionTreeRegressor\n",
    "x = dataset.iloc[:, : -1].values\n",
    "y = dataset.iloc[:, 1].values\n",
    "print(x)\n",
    "print(y)\n",
    "\n",
    "# Теперь, когда у нас есть атрибуты и метки, необходимо разделить хи на обучающий  и тестовый наборы\n",
    "# Приведенный фрагмент разделяет 80% данных на обучающий набор, а 20% данных - на нбор тестов\n",
    "x_train, x_test, y_train, y_test = train_test_split(x, y, test_size=0.2, random_state=0)\n",
    "\n",
    "# далее можно обучить алгоритм линейной регрессии\n",
    "# необходимо импортировать класс LinearRegression, создать его экземпляр и вызвать метод fit()\n",
    "regressor = DecisionTreeRegressor()\n",
    "print(regressor.fit(x_train, y_train))\n",
    "\n",
    "from sklearn import tree\n",
    "print(tree.plot_tree(regressor))\n",
    "\n",
    "# Построим прогноз\n",
    "y_pred = regressor.predict(x_test)\n",
    "print(y_pred)\n",
    "\n",
    "# Теперь сравним некоторые из наших прогнозируемых значений с фактическими значениями\n",
    "df = pd.DataFrame({'Actual': y_test, 'Predicted': y_pred})\n",
    "print(df)\n",
    "\n",
    "# Рассчитаем среднюю абсолютную и среднеквадратичную ошибку регрессии\n",
    "from sklearn import metrics\n",
    "print('Mean Squared Error:', metrics.mean_squared_error(y_test, y_pred))\n",
    "print('Mean Absolute Error:', metrics.mean_absolute_error(y_test, y_pred))\n",
    "metrics.mean_absolute_error(y_test, y_pred) / np.average(y) * 100"
   ]
  },
  {
   "cell_type": "markdown",
   "id": "13f12dc5",
   "metadata": {},
   "source": [
    "Средняя абсолютная ошибка для нашего алгоритма составляет 4120.66,  \n",
    "что составляет менее 6 процентов от среднего значения всех значений в  \n",
    "столбце."
   ]
  },
  {
   "cell_type": "markdown",
   "id": "39fcde10",
   "metadata": {},
   "source": [
    "### Задание"
   ]
  },
  {
   "cell_type": "markdown",
   "id": "d1072f6c",
   "metadata": {},
   "source": [
    "Постройте модель регрессии для данных из предыдущей рабочей  \n",
    "тетради.Для примера можно взять потребления газа (в миллионах  \n",
    "галлонов) в 48 штатах США или набор данных о качестве красного вина:  \n",
    "https://raw.githubusercontent.com/likarajo/petrol_consumption/master/data/petrol_consumption.csv  \n",
    "https://raw.githubusercontent.com/aniruddhachoudhury/Red-Wine-Quality/master/winequality-red.csv  \n",
    "Постройте прогноз. Оцените точность модели."
   ]
  },
  {
   "cell_type": "code",
   "execution_count": null,
   "id": "045a651f",
   "metadata": {},
   "outputs": [
    {
     "data": {
      "image/png": "[encoded data removed]",
      "text/plain": [
       "<Figure size 640x480 with 1 Axes>"
      ]
     },
     "metadata": {},
     "output_type": "display_data"
    },
    {
     "name": "stdout",
     "output_type": "stream",
     "text": [
      "Mean Squared Error: 11567.6\n",
      "Mean Absolute Error: 71.8\n",
      "1.6926643353895723\n"
     ]
    }
   ],
   "source": [
    "import pandas as pd\n",
    "import numpy as np\n",
    "import matplotlib.pyplot as plt\n",
    "\n",
    "url1 = r'https://raw.githubusercontent.com/likarajo/petrol_consumption/master/data/petrol_consumption.csv'\n",
    "dataset1 = pd.read_csv(url1)\n",
    "\n",
    "from sklearn.tree import DecisionTreeRegressor\n",
    "x1 = dataset1.iloc[:, : -1].values\n",
    "y1 = dataset1.iloc[:, 1].values\n",
    "\n",
    "# Теперь, когда у нас есть атрибуты и метки, необходимо разделить хи на обучающий  и тестовый наборы\n",
    "# Приведенный фрагмент разделяет 80% данных на обучающий набор, а 20% данных - на нбор тестов\n",
    "x1_train, x1_test, y1_train, y1_test = train_test_split(x1, y1, test_size=0.2, random_state=0)\n",
    "\n",
    "# далее можно обучить алгоритм линейной регрессии\n",
    "# необходимо импортировать класс LinearRegression, создать его экземпляр и вызвать метод fit()\n",
    "regressor1 = DecisionTreeRegressor()\n",
    "regressor1.fit(x1_train, y1_train)\n",
    "\n",
    "from sklearn import tree\n",
    "tree.plot_tree(regressor1)\n",
    "plt.show()\n",
    "\n",
    "# Построим прогноз\n",
    "y1_pred = regressor1.predict(x1_test)\n",
    "\n",
    "# Теперь сравним некоторые из наших прогнозируемых значений с фактическими значениями\n",
    "df1 = pd.DataFrame({'Actual': y1_test, 'Predicted': y1_pred})\n",
    "\n",
    "# Рассчитаем среднюю абсолютную и среднеквадратичную ошибку регрессии\n",
    "from sklearn import metrics\n",
    "print('Mean Squared Error:', metrics.mean_squared_error(y1_test, y1_pred))\n",
    "print('Mean Absolute Error:', metrics.mean_absolute_error(y1_test, y1_pred))\n",
    "print(metrics.mean_absolute_error(y1_test, y1_pred) / np.average(y1) * 100)\n",
    "\n",
    "\n",
    "\n",
    "\n",
    "\n",
    "url2 = r'https://raw.githubusercontent.com/aniruddhachoudhury/Red-Wine-Quality/master/winequality-red.csv'\n",
    "dataset2 = pd.read_csv(url2)\n",
    "\n",
    "from sklearn.tree import DecisionTreeRegressor\n",
    "x2 = dataset2.iloc[:, : -1].values\n",
    "y2 = dataset2.iloc[:, 1].values\n",
    "\n",
    "# Теперь, когда у нас есть атрибуты и метки, необходимо разделить хи на обучающий  и тестовый наборы\n",
    "# Приведенный фрагмент разделяет 80% данных на обучающий набор, а 20% данных - на нбор тестов\n",
    "x2_train, x2_test, y2_train, y2_test = train_test_split(x2, y2, test_size=0.2, random_state=0)\n",
    "\n",
    "# далее можно обучить алгоритм линейной регрессии\n",
    "# необходимо импортировать класс LinearRegression, создать его экземпляр и вызвать метод fit()\n",
    "regressor2 = DecisionTreeRegressor()\n",
    "regressor2.fit(x2_train, y2_train)\n",
    "\n",
    "from sklearn import tree\n",
    "tree.plot_tree(regressor2)\n",
    "plt.show()\n",
    "\n",
    "# Построим прогноз\n",
    "y2_pred = regressor2.predict(x2_test)\n",
    "\n",
    "# Теперь сравним некоторые из наших прогнозируемых значений с фактическими значениями\n",
    "df2 = pd.DataFrame({'Actual': y2_test, 'Predicted': y2_pred})\n",
    "\n",
    "# Рассчитаем среднюю абсолютную и среднеквадратичную ошибку регрессии\n",
    "from sklearn import metrics\n",
    "print('Mean Squared Error:', metrics.mean_squared_error(y2_test, y2_pred))\n",
    "print('Mean Absolute Error:', metrics.mean_absolute_error(y2_test, y2_pred))\n",
    "print(metrics.mean_absolute_error(y2_test, y2_pred) / np.average(y2) * 100)"
   ]
  }
 ],
 "metadata": {
  "kernelspec": {
   "display_name": "Python 3 (ipykernel)",
   "language": "python",
   "name": "python3"
  },
  "language_info": {
   "codemirror_mode": {
    "name": "ipython",
    "version": 3
   },
   "file_extension": ".py",
   "mimetype": "text/x-python",
   "name": "python",
   "nbconvert_exporter": "python",
   "pygments_lexer": "ipython3",
   "version": "3.9.13"
  }
 },
 "nbformat": 4,
 "nbformat_minor": 5
}
