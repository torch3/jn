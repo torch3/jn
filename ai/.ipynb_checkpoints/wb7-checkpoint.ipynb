{
 "cells": [
  {
   "cell_type": "markdown",
   "id": "354d144a",
   "metadata": {},
   "source": [
    "### 1.1.1 Пример"
   ]
  },
  {
   "cell_type": "markdown",
   "id": "aa10f013",
   "metadata": {},
   "source": [
    "Рассмотрим программу обучения персептрона на языке Python. Сначала  \n",
    "рассмотрим основной класс персептрона, который умеет учиться по  \n",
    "тестовым данным."
   ]
  },
  {
   "cell_type": "code",
   "execution_count": 16,
   "id": "1307deea",
   "metadata": {},
   "outputs": [
    {
     "name": "stdout",
     "output_type": "stream",
     "text": [
      "[0.1, -0.1]\n",
      "-1\n",
      "1\n",
      "1\n",
      "-1\n"
     ]
    }
   ],
   "source": [
    "# класс, который реализует персептрон и его обучение\n",
    "class Perceptron:\n",
    "    def __init__(self, N):\n",
    "    # создать нулевые веса\n",
    "        self.w = list()\n",
    "        for i in range(N):\n",
    "            self.w.append(0)\n",
    "    \n",
    "    # метод для вычисления значения персептрона\n",
    "    def calc(self, x):\n",
    "        res = 0\n",
    "        for i in range(len(self.w)):\n",
    "            res = res + self.w[i] * x[i]\n",
    "        return res\n",
    "    # пороговая функция для активации персептрона\n",
    "    def sign(self, x):\n",
    "        if self.calc(x) > 0:\n",
    "            return 1\n",
    "        else:\n",
    "            return -1\n",
    "    # обучение на одном примере\n",
    "    def learn(self, la, x, y):\n",
    "        # обучаем только, когда результата неверный\n",
    "        if y * self.calc(x) <= 0:\n",
    "            for i in range(len(self.w)):\n",
    "                self.w[i] = self.w[i] + la * y * x[i]\n",
    "    # обучение по всем данным T - кортеж примеров\n",
    "    def learning(self, la, T):\n",
    "        # цикл обучения\n",
    "        for n in range(100):\n",
    "            # обучение по всему набору примеров\n",
    "            for t in T:\n",
    "                self.learn(la, t[0], t[1])\n",
    "                \n",
    "\n",
    "# создаем класс двумерного персептрона\n",
    "perceptron = Perceptron(2)\n",
    "la = 0.1 # константа обучения\n",
    "# создаем примеры\n",
    "T = list()\n",
    "T.append([[2, 1], 1])\n",
    "T.append([[3, 2], 1])\n",
    "T.append([[4, 1], 1])\n",
    "T.append([[1, 2], -1])\n",
    "T.append([[2, 3], -1])\n",
    "T.append([[5, 7], -1])\n",
    "perceptron.learning(la, T) # обучение персептрона\n",
    "print(perceptron.w) # печатаем веса\n",
    "# проверяем работу на тестовых примерах\n",
    "print(perceptron.sign([1.5, 2]))\n",
    "print(perceptron.sign([3, 1.5]))\n",
    "print(perceptron.sign([5, 1]))\n",
    "print(perceptron.sign([5, 10]))"
   ]
  },
  {
   "cell_type": "markdown",
   "id": "53fed76d",
   "metadata": {},
   "source": [
    "### 1.1.2 Пример"
   ]
  },
  {
   "cell_type": "markdown",
   "id": "06f76be9",
   "metadata": {},
   "source": [
    "Для написания кода нейрона будем использовать библиотеку Pytnon  \n",
    "— NumPy:"
   ]
  },
  {
   "cell_type": "code",
   "execution_count": 17,
   "id": "16d5f647",
   "metadata": {},
   "outputs": [
    {
     "name": "stdout",
     "output_type": "stream",
     "text": [
      "0.9990889488055994\n"
     ]
    }
   ],
   "source": [
    "import numpy as np\n",
    "def sigmoid(x):\n",
    "    # Функция активации: f(x) = 1 / (1 + e^(-x))\n",
    "    return 1 / (1 + np.exp(-x))\n",
    "\n",
    "\n",
    "class Neutron:\n",
    "    def __init__(self, weight, bias):\n",
    "        self.weights = weights\n",
    "        self.bias = bias\n",
    "    def feedforward(self, inputs):\n",
    "        total = np.dot(self.weights, inputs) + self.bias\n",
    "        return sigmoid(total)\n",
    "    \n",
    "\n",
    "weights = np.array([0, 1]) # w1 = 0, w2 = 1\n",
    "bias = 4                   # c = 4\n",
    "n = Neutron(weights, bias)\n",
    "x = np.array([2, 3])\n",
    "print(n.feedforward(x))"
   ]
  },
  {
   "cell_type": "markdown",
   "id": "8fc29259",
   "metadata": {},
   "source": [
    "Нейросеть состоит из множества соединенных между собой нейронов.  \n",
    "Пример несложной нейронной сети\n",
    "![](wb7p1.jpg)\n",
    ">где:  \n",
    ">$𝑥_1, 𝑥_2$ — входной слой;  \n",
    ">$ℎ_1, ℎ_2$ — скрытый слой с двумя нейронами;  \n",
    ">$𝑜_1$ — выходной слой.  \n",
    "\n",
    "Например. Представим, что нейроны из графика выше имеют веса  \n",
    "[0, 1]. Пороговое значение (𝑏) у обоих нейронов равно 0 и они имеют  \n",
    "идентичную сигмоиду.  \n",
    "При входных данных 𝑥 = [2, 3] получим:  \n",
    "\n",
    "ℎ1 = ℎ2 = 𝑓(𝑤𝑥 + 𝑏) = 𝑓((02) + (1 ∗ 3) + 0) = 𝑓(3) = 0.95.  \n",
    "𝑜1 = 𝑓(𝑤 ∗ [ℎ1, ℎ2] + 𝑏) = 𝑓((0ℎ1) + (1ℎ2) + 0) = 𝑓(0.95) = 0.72.  \n",
    "\n",
    "Входные данные по нейронам передаются до тех пор, пока не  \n",
    "получатся выходные значения."
   ]
  },
  {
   "cell_type": "code",
   "execution_count": 11,
   "id": "662d217b",
   "metadata": {},
   "outputs": [
    {
     "name": "stdout",
     "output_type": "stream",
     "text": [
      "0.7216325609518421\n"
     ]
    }
   ],
   "source": [
    "import numpy as np\n",
    "class OurNeuralNetwork:\n",
    "    '''\n",
    "    Данные нейросети:\n",
    "        - два входа\n",
    "        - два нейрона в скрытых слоях (h1, h2)\n",
    "        - выход (o1)\n",
    "    Нейроны имеют идентичные веса и пороги:\n",
    "        - w = [0, 1]\n",
    "        - b = 0\n",
    "    '''\n",
    "    def __init__(self):\n",
    "        weights = np.array([0, 1])\n",
    "        bias = 0\n",
    "        # Класс Neuron из предыдущего раздела\n",
    "        self.h1 = Neuron(weights, bias)\n",
    "        self.h2 = Neuron(weights, bias)\n",
    "        self.o1 = Neuron(weights, bias)\n",
    "    def feedforward(self, x):\n",
    "        out_h1 = self.h1.feedforward(x)\n",
    "        out_h2 = self.h1.feedforward(x)\n",
    "        # Входы для o1 - это методы h1 и h2\n",
    "        out_o1 = self.o1.feedforward(np.array([out_h1, out_h2]))\n",
    "        return out_o1\n",
    "\n",
    "network = OurNeuralNetwork()\n",
    "x = np.array([2, 3])\n",
    "print(network.feedforward(x)) # 0.7216325609518421"
   ]
  },
  {
   "cell_type": "markdown",
   "id": "eedc627e",
   "metadata": {},
   "source": [
    "### Задание"
   ]
  },
  {
   "cell_type": "markdown",
   "id": "0044898f",
   "metadata": {},
   "source": [
    "Реализовать классы нейросетей по аналогии с классом OurNeuralNetwork.  \n",
    "Данные нейросети:  \n",
    "- три входа (𝑥1, 𝑥2, 𝑥3);  \n",
    "- три нейрона в скрытых слоях (ℎ1, ℎ2, ℎ3);  \n",
    "- выход (𝑜1).  \n",
    "\n",
    "Нейроны имеют идентичные веса и пороги:  \n",
    "- 𝑤 = [0.5, 0.5, 0.5]  \n",
    "- 𝑏 = 0  \n",
    "\n",
    "Данные нейросети:  \n",
    "- два входа (𝑥1, 𝑥2);  \n",
    "- два нейрона в скрытых слоях (ℎ1, ℎ2);  \n",
    "- два выхода (𝑜1, 𝑜2).  \n",
    "\n",
    "Нейроны имеют идентичные веса и пороги:  \n",
    "- 𝑤 = [1, 0];  \n",
    "- 𝑏 = 1."
   ]
  },
  {
   "cell_type": "code",
   "execution_count": null,
   "id": "30029231",
   "metadata": {},
   "outputs": [],
   "source": []
  },
  {
   "cell_type": "markdown",
   "id": "cd5fb0f3",
   "metadata": {},
   "source": [
    "### Задание"
   ]
  },
  {
   "cell_type": "markdown",
   "id": "c7718e0f",
   "metadata": {},
   "source": [
    "Реализуйте классы нейронных сетей с использованием других функций  \n",
    "активации.\n",
    "![](wb7p2.jpg)"
   ]
  },
  {
   "cell_type": "code",
   "execution_count": null,
   "id": "25dbc074",
   "metadata": {},
   "outputs": [],
   "source": []
  },
  {
   "cell_type": "markdown",
   "id": "2f4ce5d7",
   "metadata": {},
   "source": [
    "### Задание"
   ]
  },
  {
   "cell_type": "markdown",
   "id": "e4b1a4b7",
   "metadata": {},
   "source": [
    "Используйте классы MLPClassified и MLPRegressor для классификации и  \n",
    "регрессии произвольных данных из интернета. Проведите анализ  \n",
    "атрибуты, полученных моделей.  \n",
    "\n",
    "Для классификации можете взять набор данных Ирисов:  \n",
    "https://gist.githubusercontent.com/netj/8836201/raw/6f9306ad21398ea43cbaя4f7d537619d0e07d5ae3/iris.csv\n",
    "а для регрессии датасет зависимости заработной платы от опыта работы:\n",
    "https://raw.githubusercontent.com/AnnaShestova/salary-years-simple-linear-egression/master/Salary_Data.csv"
   ]
  },
  {
   "cell_type": "code",
   "execution_count": null,
   "id": "59e7460f",
   "metadata": {},
   "outputs": [],
   "source": []
  }
 ],
 "metadata": {
  "kernelspec": {
   "display_name": "Python 3 (ipykernel)",
   "language": "python",
   "name": "python3"
  },
  "language_info": {
   "codemirror_mode": {
    "name": "ipython",
    "version": 3
   },
   "file_extension": ".py",
   "mimetype": "text/x-python",
   "name": "python",
   "nbconvert_exporter": "python",
   "pygments_lexer": "ipython3",
   "version": "3.9.13"
  }
 },
 "nbformat": 4,
 "nbformat_minor": 5
}
