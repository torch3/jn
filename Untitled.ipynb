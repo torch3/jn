{
 "cells": [
  {
   "cell_type": "code",
   "execution_count": 3,
   "id": "7a409275",
   "metadata": {},
   "outputs": [],
   "source": [
    "def QuickSort(A, l, r):\n",
    "    if l >= r:\n",
    "        return\n",
    "    else:\n",
    "        q = A[r]\n",
    "        i = l\n",
    "        j = r - 1\n",
    "        while i <= j:\n",
    "            while A[i] < q:\n",
    "                i += 1\n",
    "            while A[j] > q:\n",
    "                j -= 1\n",
    "            if i <= j: \n",
    "                A[i], A[j] = A[j], A[i]\n",
    "                i += 1\n",
    "                j -= 1\n",
    "        A[i], A[r] = A[r], A[i]\n",
    "        QuickSort(A, l, j)\n",
    "        QuickSort(A, i + 1, r)"
   ]
  },
  {
   "cell_type": "code",
   "execution_count": 4,
   "id": "87fe1275",
   "metadata": {},
   "outputs": [
    {
     "name": "stdout",
     "output_type": "stream",
     "text": [
      "[5, 3, 6, 9, 2, 10, 2, 9, 7, 5]\n",
      "[2, 2, 3, 5, 5, 6, 7, 9, 9, 10]\n"
     ]
    }
   ],
   "source": [
    "from random import randint, choice\n",
    "\n",
    "n = 10\n",
    "a = [int(randint(1, 10)) for i in range(n)]\n",
    "print(a)\n",
    "QuickSort(a, 0, n - 1)\n",
    "print(a)\n"
   ]
  },
  {
   "cell_type": "code",
   "execution_count": 9,
   "id": "a150733c",
   "metadata": {},
   "outputs": [
    {
     "name": "stdout",
     "output_type": "stream",
     "text": [
      "[25, 22, 1, 25, 27, 29, 41, 40, 37, 44]\n",
      "3\n",
      "2\n"
     ]
    }
   ],
   "source": [
    "\n",
    "A = [37, 29, 1, 44, 27, 22, 41, 40, 25, 25]\n",
    "l = 0\n",
    "r = 9\n",
    "# if l >= r:\n",
    "#     return\n",
    "# else:\n",
    "q = A[9]\n",
    "i = l\n",
    "j = r - 1\n",
    "while i <= j:\n",
    "    while A[i] < q:\n",
    "        i += 1\n",
    "    while A[j] > q:\n",
    "        j -= 1\n",
    "    if i <= j: \n",
    "        A[i], A[j] = A[j], A[i]\n",
    "        i += 1\n",
    "        j -= 1\n",
    "A[i], A[9] = A[9], A[i]\n",
    "print(A)\n",
    "print(i)\n",
    "print(j)"
   ]
  },
  {
   "cell_type": "code",
   "execution_count": 5,
   "id": "9f861f70",
   "metadata": {
    "scrolled": false
   },
   "outputs": [
    {
     "name": "stdout",
     "output_type": "stream",
     "text": [
      "Defaulting to user installation because normal site-packages is not writeable\n",
      "Requirement already satisfied: jupyterthemes in /home/ubu/.local/lib/python3.10/site-packages (0.20.0)\n",
      "Requirement already satisfied: ipython>=5.4.1 in /home/ubu/.local/lib/python3.10/site-packages (from jupyterthemes) (8.9.0)\n",
      "Requirement already satisfied: matplotlib>=1.4.3 in /usr/lib/python3/dist-packages (from jupyterthemes) (3.5.2)\n",
      "Requirement already satisfied: notebook>=5.6.0 in /home/ubu/.local/lib/python3.10/site-packages (from jupyterthemes) (6.5.2)\n",
      "Requirement already satisfied: jupyter-core in /home/ubu/.local/lib/python3.10/site-packages (from jupyterthemes) (5.2.0)\n",
      "Requirement already satisfied: lesscpy>=0.11.2 in /home/ubu/.local/lib/python3.10/site-packages (from jupyterthemes) (0.15.1)\n",
      "Requirement already satisfied: decorator in /home/ubu/.local/lib/python3.10/site-packages (from ipython>=5.4.1->jupyterthemes) (5.1.1)\n",
      "Requirement already satisfied: pygments>=2.4.0 in /usr/lib/python3/dist-packages (from ipython>=5.4.1->jupyterthemes) (2.12.0)\n",
      "Requirement already satisfied: backcall in /home/ubu/.local/lib/python3.10/site-packages (from ipython>=5.4.1->jupyterthemes) (0.2.0)\n",
      "Requirement already satisfied: jedi>=0.16 in /home/ubu/.local/lib/python3.10/site-packages (from ipython>=5.4.1->jupyterthemes) (0.18.2)\n",
      "Requirement already satisfied: matplotlib-inline in /home/ubu/.local/lib/python3.10/site-packages (from ipython>=5.4.1->jupyterthemes) (0.1.6)\n",
      "Requirement already satisfied: stack-data in /home/ubu/.local/lib/python3.10/site-packages (from ipython>=5.4.1->jupyterthemes) (0.6.2)\n",
      "Requirement already satisfied: traitlets>=5 in /home/ubu/.local/lib/python3.10/site-packages (from ipython>=5.4.1->jupyterthemes) (5.9.0)\n",
      "Requirement already satisfied: pickleshare in /home/ubu/.local/lib/python3.10/site-packages (from ipython>=5.4.1->jupyterthemes) (0.7.5)\n",
      "Requirement already satisfied: pexpect>4.3 in /usr/lib/python3/dist-packages (from ipython>=5.4.1->jupyterthemes) (4.8.0)\n",
      "Requirement already satisfied: prompt-toolkit<3.1.0,>=3.0.30 in /home/ubu/.local/lib/python3.10/site-packages (from ipython>=5.4.1->jupyterthemes) (3.0.36)\n",
      "Requirement already satisfied: ply in /usr/lib/python3/dist-packages (from lesscpy>=0.11.2->jupyterthemes) (3.11)\n",
      "Requirement already satisfied: jinja2 in /home/ubu/.local/lib/python3.10/site-packages (from notebook>=5.6.0->jupyterthemes) (3.1.2)\n",
      "Requirement already satisfied: prometheus-client in /home/ubu/.local/lib/python3.10/site-packages (from notebook>=5.6.0->jupyterthemes) (0.16.0)\n",
      "Requirement already satisfied: terminado>=0.8.3 in /home/ubu/.local/lib/python3.10/site-packages (from notebook>=5.6.0->jupyterthemes) (0.17.1)\n",
      "Requirement already satisfied: nest-asyncio>=1.5 in /home/ubu/.local/lib/python3.10/site-packages (from notebook>=5.6.0->jupyterthemes) (1.5.6)\n",
      "Requirement already satisfied: nbclassic>=0.4.7 in /home/ubu/.local/lib/python3.10/site-packages (from notebook>=5.6.0->jupyterthemes) (0.5.1)\n",
      "Requirement already satisfied: argon2-cffi in /home/ubu/.local/lib/python3.10/site-packages (from notebook>=5.6.0->jupyterthemes) (21.3.0)\n",
      "Requirement already satisfied: jupyter-client>=5.3.4 in /home/ubu/.local/lib/python3.10/site-packages (from notebook>=5.6.0->jupyterthemes) (8.0.2)\n",
      "Requirement already satisfied: nbconvert>=5 in /home/ubu/.local/lib/python3.10/site-packages (from notebook>=5.6.0->jupyterthemes) (7.2.9)\n",
      "Requirement already satisfied: tornado>=6.1 in /home/ubu/.local/lib/python3.10/site-packages (from notebook>=5.6.0->jupyterthemes) (6.2)\n",
      "Requirement already satisfied: ipykernel in /home/ubu/.local/lib/python3.10/site-packages (from notebook>=5.6.0->jupyterthemes) (6.21.1)\n",
      "Requirement already satisfied: pyzmq>=17 in /home/ubu/.local/lib/python3.10/site-packages (from notebook>=5.6.0->jupyterthemes) (25.0.0)\n",
      "Requirement already satisfied: nbformat in /home/ubu/.local/lib/python3.10/site-packages (from notebook>=5.6.0->jupyterthemes) (5.7.3)\n",
      "Requirement already satisfied: Send2Trash>=1.8.0 in /home/ubu/.local/lib/python3.10/site-packages (from notebook>=5.6.0->jupyterthemes) (1.8.0)\n",
      "Requirement already satisfied: ipython-genutils in /home/ubu/.local/lib/python3.10/site-packages (from notebook>=5.6.0->jupyterthemes) (0.2.0)\n",
      "Requirement already satisfied: platformdirs>=2.5 in /home/ubu/.local/lib/python3.10/site-packages (from jupyter-core->jupyterthemes) (2.6.2)\n",
      "Requirement already satisfied: parso<0.9.0,>=0.8.0 in /home/ubu/.local/lib/python3.10/site-packages (from jedi>=0.16->ipython>=5.4.1->jupyterthemes) (0.8.3)\n",
      "Requirement already satisfied: python-dateutil>=2.8.2 in /home/ubu/.local/lib/python3.10/site-packages (from jupyter-client>=5.3.4->notebook>=5.6.0->jupyterthemes) (2.8.2)\n",
      "Requirement already satisfied: jupyter-server>=1.17.0 in /home/ubu/.local/lib/python3.10/site-packages (from nbclassic>=0.4.7->notebook>=5.6.0->jupyterthemes) (2.2.1)\n",
      "Requirement already satisfied: notebook-shim>=0.1.0 in /home/ubu/.local/lib/python3.10/site-packages (from nbclassic>=0.4.7->notebook>=5.6.0->jupyterthemes) (0.2.2)\n",
      "Requirement already satisfied: beautifulsoup4 in /home/ubu/.local/lib/python3.10/site-packages (from nbconvert>=5->notebook>=5.6.0->jupyterthemes) (4.11.2)\n",
      "Requirement already satisfied: mistune<3,>=2.0.3 in /home/ubu/.local/lib/python3.10/site-packages (from nbconvert>=5->notebook>=5.6.0->jupyterthemes) (2.0.5)\n",
      "Requirement already satisfied: defusedxml in /home/ubu/.local/lib/python3.10/site-packages (from nbconvert>=5->notebook>=5.6.0->jupyterthemes) (0.7.1)\n",
      "Requirement already satisfied: nbclient>=0.5.0 in /home/ubu/.local/lib/python3.10/site-packages (from nbconvert>=5->notebook>=5.6.0->jupyterthemes) (0.7.2)\n",
      "Requirement already satisfied: tinycss2 in /home/ubu/.local/lib/python3.10/site-packages (from nbconvert>=5->notebook>=5.6.0->jupyterthemes) (1.2.1)\n",
      "Requirement already satisfied: jupyterlab-pygments in /home/ubu/.local/lib/python3.10/site-packages (from nbconvert>=5->notebook>=5.6.0->jupyterthemes) (0.2.2)\n",
      "Requirement already satisfied: bleach in /home/ubu/.local/lib/python3.10/site-packages (from nbconvert>=5->notebook>=5.6.0->jupyterthemes) (6.0.0)\n",
      "Requirement already satisfied: pandocfilters>=1.4.1 in /home/ubu/.local/lib/python3.10/site-packages (from nbconvert>=5->notebook>=5.6.0->jupyterthemes) (1.5.0)\n",
      "Requirement already satisfied: markupsafe>=2.0 in /usr/lib/python3/dist-packages (from nbconvert>=5->notebook>=5.6.0->jupyterthemes) (2.0.1)\n",
      "Requirement already satisfied: packaging in /home/ubu/.local/lib/python3.10/site-packages (from nbconvert>=5->notebook>=5.6.0->jupyterthemes) (23.0)\n",
      "Requirement already satisfied: jsonschema>=2.6 in /home/ubu/.local/lib/python3.10/site-packages (from nbformat->notebook>=5.6.0->jupyterthemes) (4.17.3)\n",
      "Requirement already satisfied: fastjsonschema in /home/ubu/.local/lib/python3.10/site-packages (from nbformat->notebook>=5.6.0->jupyterthemes) (2.16.2)\n",
      "Requirement already satisfied: wcwidth in /home/ubu/.local/lib/python3.10/site-packages (from prompt-toolkit<3.1.0,>=3.0.30->ipython>=5.4.1->jupyterthemes) (0.2.6)\n",
      "Requirement already satisfied: ptyprocess in /usr/lib/python3/dist-packages (from terminado>=0.8.3->notebook>=5.6.0->jupyterthemes) (0.7.0)\n",
      "Requirement already satisfied: argon2-cffi-bindings in /home/ubu/.local/lib/python3.10/site-packages (from argon2-cffi->notebook>=5.6.0->jupyterthemes) (21.2.0)\n",
      "Requirement already satisfied: debugpy>=1.6.5 in /home/ubu/.local/lib/python3.10/site-packages (from ipykernel->notebook>=5.6.0->jupyterthemes) (1.6.6)\n",
      "Requirement already satisfied: comm>=0.1.1 in /home/ubu/.local/lib/python3.10/site-packages (from ipykernel->notebook>=5.6.0->jupyterthemes) (0.1.2)\n",
      "Requirement already satisfied: psutil in /home/ubu/.local/lib/python3.10/site-packages (from ipykernel->notebook>=5.6.0->jupyterthemes) (5.9.4)\n",
      "Requirement already satisfied: pure-eval in /home/ubu/.local/lib/python3.10/site-packages (from stack-data->ipython>=5.4.1->jupyterthemes) (0.2.2)\n",
      "Requirement already satisfied: asttokens>=2.1.0 in /home/ubu/.local/lib/python3.10/site-packages (from stack-data->ipython>=5.4.1->jupyterthemes) (2.2.1)\n",
      "Requirement already satisfied: executing>=1.2.0 in /home/ubu/.local/lib/python3.10/site-packages (from stack-data->ipython>=5.4.1->jupyterthemes) (1.2.0)\n",
      "Requirement already satisfied: six in /usr/lib/python3/dist-packages (from asttokens>=2.1.0->stack-data->ipython>=5.4.1->jupyterthemes) (1.16.0)\n"
     ]
    },
    {
     "name": "stdout",
     "output_type": "stream",
     "text": [
      "Requirement already satisfied: attrs>=17.4.0 in /home/ubu/.local/lib/python3.10/site-packages (from jsonschema>=2.6->nbformat->notebook>=5.6.0->jupyterthemes) (22.2.0)\n",
      "Requirement already satisfied: pyrsistent!=0.17.0,!=0.17.1,!=0.17.2,>=0.14.0 in /home/ubu/.local/lib/python3.10/site-packages (from jsonschema>=2.6->nbformat->notebook>=5.6.0->jupyterthemes) (0.19.3)\n",
      "Requirement already satisfied: jupyter-server-terminals in /home/ubu/.local/lib/python3.10/site-packages (from jupyter-server>=1.17.0->nbclassic>=0.4.7->notebook>=5.6.0->jupyterthemes) (0.4.4)\n",
      "Requirement already satisfied: anyio>=3.1.0 in /home/ubu/.local/lib/python3.10/site-packages (from jupyter-server>=1.17.0->nbclassic>=0.4.7->notebook>=5.6.0->jupyterthemes) (3.6.2)\n",
      "Requirement already satisfied: jupyter-events>=0.4.0 in /home/ubu/.local/lib/python3.10/site-packages (from jupyter-server>=1.17.0->nbclassic>=0.4.7->notebook>=5.6.0->jupyterthemes) (0.6.3)\n",
      "Requirement already satisfied: websocket-client in /home/ubu/.local/lib/python3.10/site-packages (from jupyter-server>=1.17.0->nbclassic>=0.4.7->notebook>=5.6.0->jupyterthemes) (1.5.1)\n",
      "Requirement already satisfied: cffi>=1.0.1 in /home/ubu/.local/lib/python3.10/site-packages (from argon2-cffi-bindings->argon2-cffi->notebook>=5.6.0->jupyterthemes) (1.15.1)\n",
      "Requirement already satisfied: soupsieve>1.2 in /home/ubu/.local/lib/python3.10/site-packages (from beautifulsoup4->nbconvert>=5->notebook>=5.6.0->jupyterthemes) (2.3.2.post1)\n",
      "Requirement already satisfied: webencodings in /home/ubu/.local/lib/python3.10/site-packages (from bleach->nbconvert>=5->notebook>=5.6.0->jupyterthemes) (0.5.1)\n",
      "Requirement already satisfied: sniffio>=1.1 in /home/ubu/.local/lib/python3.10/site-packages (from anyio>=3.1.0->jupyter-server>=1.17.0->nbclassic>=0.4.7->notebook>=5.6.0->jupyterthemes) (1.3.0)\n",
      "Requirement already satisfied: idna>=2.8 in /usr/lib/python3/dist-packages (from anyio>=3.1.0->jupyter-server>=1.17.0->nbclassic>=0.4.7->notebook>=5.6.0->jupyterthemes) (3.3)\n",
      "Requirement already satisfied: pycparser in /home/ubu/.local/lib/python3.10/site-packages (from cffi>=1.0.1->argon2-cffi-bindings->argon2-cffi->notebook>=5.6.0->jupyterthemes) (2.21)\n",
      "Requirement already satisfied: pyyaml>=5.3 in /usr/lib/python3/dist-packages (from jupyter-events>=0.4.0->jupyter-server>=1.17.0->nbclassic>=0.4.7->notebook>=5.6.0->jupyterthemes) (5.4.1)\n",
      "Requirement already satisfied: rfc3339-validator in /home/ubu/.local/lib/python3.10/site-packages (from jupyter-events>=0.4.0->jupyter-server>=1.17.0->nbclassic>=0.4.7->notebook>=5.6.0->jupyterthemes) (0.1.4)\n",
      "Requirement already satisfied: rfc3986-validator>=0.1.1 in /home/ubu/.local/lib/python3.10/site-packages (from jupyter-events>=0.4.0->jupyter-server>=1.17.0->nbclassic>=0.4.7->notebook>=5.6.0->jupyterthemes) (0.1.1)\n",
      "Requirement already satisfied: python-json-logger>=2.0.4 in /home/ubu/.local/lib/python3.10/site-packages (from jupyter-events>=0.4.0->jupyter-server>=1.17.0->nbclassic>=0.4.7->notebook>=5.6.0->jupyterthemes) (2.0.4)\n",
      "Requirement already satisfied: jsonpointer>1.13 in /home/ubu/.local/lib/python3.10/site-packages (from jsonschema>=2.6->nbformat->notebook>=5.6.0->jupyterthemes) (2.3)\n",
      "Requirement already satisfied: fqdn in /home/ubu/.local/lib/python3.10/site-packages (from jsonschema>=2.6->nbformat->notebook>=5.6.0->jupyterthemes) (1.5.1)\n",
      "Requirement already satisfied: isoduration in /home/ubu/.local/lib/python3.10/site-packages (from jsonschema>=2.6->nbformat->notebook>=5.6.0->jupyterthemes) (20.11.0)\n",
      "Requirement already satisfied: webcolors>=1.11 in /home/ubu/.local/lib/python3.10/site-packages (from jsonschema>=2.6->nbformat->notebook>=5.6.0->jupyterthemes) (1.12)\n",
      "Requirement already satisfied: uri-template in /home/ubu/.local/lib/python3.10/site-packages (from jsonschema>=2.6->nbformat->notebook>=5.6.0->jupyterthemes) (1.2.0)\n",
      "Requirement already satisfied: arrow>=0.15.0 in /home/ubu/.local/lib/python3.10/site-packages (from isoduration->jsonschema>=2.6->nbformat->notebook>=5.6.0->jupyterthemes) (1.2.3)\n"
     ]
    }
   ],
   "source": [
    "!pip install jupyterthemes"
   ]
  },
  {
   "cell_type": "code",
   "execution_count": 4,
   "id": "48ae9dcf",
   "metadata": {},
   "outputs": [
    {
     "name": "stdout",
     "output_type": "stream",
     "text": [
      "Available Themes: \r\n",
      "   chesterish\r\n",
      "   grade3\r\n",
      "   gruvboxd\r\n",
      "   gruvboxl\r\n",
      "   monokai\r\n",
      "   oceans16\r\n",
      "   onedork\r\n",
      "   solarizedd\r\n",
      "   solarizedl\r\n"
     ]
    }
   ],
   "source": [
    "!jt -l"
   ]
  },
  {
   "cell_type": "code",
   "execution_count": 20,
   "id": "599affa5",
   "metadata": {},
   "outputs": [],
   "source": [
    "n = 10\n",
    "a = [25, 22, 1, 25, 27, 29, 41, 40, 37, 44]\n",
    "c = 0"
   ]
  },
  {
   "cell_type": "code",
   "execution_count": 21,
   "id": "3a862f6f",
   "metadata": {},
   "outputs": [
    {
     "name": "stdout",
     "output_type": "stream",
     "text": [
      "[1, 22, 25, 25, 27, 29, 37, 40, 41, 44]\n"
     ]
    }
   ],
   "source": [
    "for i in range(n - 1):\n",
    "    for j in range(i + 1, n):\n",
    "        if a[j] < a[i]:\n",
    "            c = a[i]\n",
    "            a[i] = a[j]\n",
    "            a[j] = c\n",
    "\n",
    "print(a)"
   ]
  },
  {
   "cell_type": "code",
   "execution_count": 5,
   "id": "4523397b",
   "metadata": {},
   "outputs": [],
   "source": [
    "!jt -t monokai"
   ]
  },
  {
   "cell_type": "markdown",
   "id": "e573c9c5",
   "metadata": {},
   "source": [
    "!jt -t solarizedl"
   ]
  },
  {
   "cell_type": "code",
   "execution_count": 1,
   "id": "43477854",
   "metadata": {},
   "outputs": [
    {
     "name": "stdout",
     "output_type": "stream",
     "text": [
      "CHIN CHOPA CHIN CHOPA\n"
     ]
    }
   ],
   "source": [
    "print('CHIN CHOPA CHIN CHOPA')"
   ]
  }
 ],
 "metadata": {
  "kernelspec": {
   "display_name": "Python 3 (ipykernel)",
   "language": "python",
   "name": "python3"
  },
  "language_info": {
   "codemirror_mode": {
    "name": "ipython",
    "version": 3
   },
   "file_extension": ".py",
   "mimetype": "text/x-python",
   "name": "python",
   "nbconvert_exporter": "python",
   "pygments_lexer": "ipython3",
   "version": "3.10.7"
  },
  "widgets": {
   "application/vnd.jupyter.widget-state+json": {
    "state": {},
    "version_major": 2,
    "version_minor": 0
   }
  }
 },
 "nbformat": 4,
 "nbformat_minor": 5
}
